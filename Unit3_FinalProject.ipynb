{
 "cells": [
  {
   "cell_type": "markdown",
   "metadata": {},
   "source": [
    "# Unit 3 Final Projects: Calculating evolutionary distance\n",
    "\n",
    "In this notebook you will compare the sequence of a particular gene from 3 different species to find out which two are most closely related. \n",
    "\n",
    "You will need to do the following:\n",
    "1. Open and read in your files\n",
    "2. Decide which sequences to compare (DNA, RNA, or protein)\n",
    "3. Write code that prints out the percent similarity of each pair of sequences"
   ]
  },
  {
   "cell_type": "code",
   "execution_count": 1,
   "metadata": {},
   "outputs": [],
   "source": [
    "animal_1 = open(\"2a_CYTB_DNA.txt\").read() #turtle\n",
    "animal_2 = open(\"2b_CYTB_DNA.txt\").read() #Chicken \n",
    "animal_3 = open(\"2c_CYTB_DNA.txt\").read() #Crocidile "
   ]
  },
  {
   "cell_type": "code",
   "execution_count": 35,
   "metadata": {},
   "outputs": [
    {
     "name": "stdout",
     "output_type": "stream",
     "text": [
      "1118\n",
      "1127\n",
      "1211\n"
     ]
    }
   ],
   "source": [
    "print(len(animal_1))\n",
    "print(len(animal_2))\n",
    "print(len(animal_3))"
   ]
  },
  {
   "cell_type": "code",
   "execution_count": 36,
   "metadata": {},
   "outputs": [
    {
     "name": "stdout",
     "output_type": "stream",
     "text": [
      "270\n",
      "75.84973166368515\n"
     ]
    }
   ],
   "source": [
    "#this code test the similiarities between turtle and chicken \n",
    "Num_dif1 = 0\n",
    "\n",
    "for c, i in enumerate(animal_1): \n",
    "    if i != animal_2[c]:\n",
    "        Num_dif1 += 1\n",
    "print(Num_dif1)\n",
    "\n",
    "#this is where we convert the number of differences to the number of similarities\n",
    "yo = Num_dif1*100/1118 # this gets the precent different \n",
    "print(100 - yo) # this is where we subtract the precent of differences from 100 to get number of similarities "
   ]
  },
  {
   "cell_type": "code",
   "execution_count": 37,
   "metadata": {},
   "outputs": [
    {
     "name": "stdout",
     "output_type": "stream",
     "text": [
      "326\n",
      "70.84078711985688\n"
     ]
    }
   ],
   "source": [
    "#this code test the similarities between turtle and crocidile \n",
    "Num_dif2 = 0\n",
    "\n",
    "for c, i in enumerate(animal_1): \n",
    "    if i != animal_3[c]:\n",
    "        Num_dif2 += 1\n",
    "print(Num_dif2)\n",
    "yo = Num_dif2*100/1118\n",
    "print(100 - yo)"
   ]
  },
  {
   "cell_type": "code",
   "execution_count": 38,
   "metadata": {},
   "outputs": [
    {
     "name": "stdout",
     "output_type": "stream",
     "text": [
      "355\n",
      "68.2468694096601\n"
     ]
    }
   ],
   "source": [
    "#this code test the similarities between crocidile and chicken \n",
    "Num_dif3 = 0\n",
    "\n",
    "for c, i in enumerate(animal_2): \n",
    "    if i != animal_3[c]:\n",
    "        Num_dif3 += 1\n",
    "print(Num_dif3)\n",
    "yo = Num_dif3*100/1118\n",
    "print(100 - yo)"
   ]
  },
  {
   "cell_type": "markdown",
   "metadata": {
    "collapsed": true
   },
   "source": [
    "#### "
   ]
  },
  {
   "cell_type": "code",
   "execution_count": null,
   "metadata": {},
   "outputs": [],
   "source": []
  },
  {
   "cell_type": "markdown",
   "metadata": {},
   "source": [
    "## Bonus Challenge\n",
    "\n",
    "Visualize your results! Choose a graph type that you think will communicate your conclusions effectively and create it using matplotlib:"
   ]
  },
  {
   "cell_type": "code",
   "execution_count": null,
   "metadata": {
    "collapsed": true
   },
   "outputs": [],
   "source": []
  },
  {
   "cell_type": "markdown",
   "metadata": {},
   "source": [
    "## Bonus Challenge 2\n",
    "If you finish your project and want to try a challenge, come up with a hypothesis about which of the following species are most closely related to humans (carp, chicken, chimp, dog, eel, elephant, frog, gorilla, macaque monkey, mouse, orangutan, pig). Write out a ranked list with the species you think is most related to humans at the top.\n",
    "\n",
    "Then calculate the percent difference between the hemoglobin amino acid sequences of humans and each species to find out how close you came to the right ranking!"
   ]
  },
  {
   "cell_type": "code",
   "execution_count": null,
   "metadata": {
    "collapsed": true
   },
   "outputs": [],
   "source": []
  }
 ],
 "metadata": {
  "kernelspec": {
   "display_name": "Python 3",
   "language": "python",
   "name": "python3"
  },
  "language_info": {
   "codemirror_mode": {
    "name": "ipython",
    "version": 3
   },
   "file_extension": ".py",
   "mimetype": "text/x-python",
   "name": "python",
   "nbconvert_exporter": "python",
   "pygments_lexer": "ipython3",
   "version": "3.7.3"
  }
 },
 "nbformat": 4,
 "nbformat_minor": 2
}
